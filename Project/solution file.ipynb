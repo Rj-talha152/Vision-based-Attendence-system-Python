{
 "cells": [
  {
   "cell_type": "code",
   "execution_count": 1,
   "metadata": {},
   "outputs": [],
   "source": [
    "import speech_recognition as sr\n",
    "import datetime\n",
    "from datetime import date\n",
    "import pyttsx3\n",
    "import nltk\n",
    "from nltk.corpus import stopwords\n",
    "from nltk.tokenize import word_tokenize\n",
    "import cv2\n",
    "import numpy as np\n",
    "import face_recognition\n",
    "import os\n",
    "from datetime import datetime"
   ]
  },
  {
   "cell_type": "code",
   "execution_count": 4,
   "metadata": {},
   "outputs": [
    {
     "name": "stdout",
     "output_type": "stream",
     "text": [
      "['Asad.jpg', 'Hamza.jpg', 'Shoaib.jpg', 'Tahir.jpg', 'Talha.jpg']\n",
      "['Asad', 'Hamza', 'Shoaib', 'Tahir', 'Talha']\n"
     ]
    }
   ],
   "source": [
    "\n",
    "# from PIL import ImageGrab\n",
    " \n",
    "path = 'C:/Users/Talha khan/Desktop/Project/New folder'\n",
    "images = []\n",
    "classNames = []\n",
    "myList = os.listdir(path)\n",
    "print(myList)\n",
    "for cl in myList:\n",
    "    curImg = cv2.imread(f'{path}/{cl}')\n",
    "    images.append(curImg)\n",
    "    classNames.append(os.path.splitext(cl)[0])\n",
    "print(classNames)\n",
    "def findEncodings(images):\n",
    "    encodeList = []\n",
    "    for img in images:\n",
    "        img = cv2.cvtColor(img, cv2.COLOR_BGR2RGB)\n",
    "        encode = face_recognition.face_encodings(img)[0]\n",
    "        encodeList.append(encode)\n",
    "    return encodeList\n",
    " \n",
    "\n",
    " \n",
    "#### FOR CAPTURING SCREEN RATHER THAN WEBCAM\n",
    "# def captureScreen(bbox=(300,300,690+300,530+300)):\n",
    "#     capScr = np.array(ImageGrab.grab(bbox))\n",
    "#     capScr = cv2.cvtColor(capScr, cv2.COLOR_RGB2BGR)\n",
    "#     return capScr\n",
    " \n"
   ]
  },
  {
   "cell_type": "code",
   "execution_count": 5,
   "metadata": {},
   "outputs": [],
   "source": [
    "r = sr.Recognizer()\n",
    "def takeCommand():\n",
    "    with sr.Microphone() as audio_file:\n",
    "        r.adjust_for_ambient_noise(audio_file)\n",
    "        r.pause_trashold = 0.33\n",
    "        audio = r.listen(audio_file)\n",
    "    try:\n",
    "        query = r.recognize_google(audio, language='en-in') #Using google for voice recognition.\n",
    "        #print(f\"User said: {query}\\n\") #User query will be printed.\n",
    "        return query.lower()\n",
    "    except Exception as e:   \n",
    "        print(\"Say that again please...\")\n",
    "        return ''"
   ]
  },
  {
   "cell_type": "code",
   "execution_count": 7,
   "metadata": {},
   "outputs": [],
   "source": [
    "nameList = []\n",
    "def markAttendance(name,f):\n",
    "    query = takeCommand()\n",
    "    myDataList = f.readlines()\n",
    "    for line in myDataList:\n",
    "        entry = line.split(',')\n",
    "        nameList.append(entry[0])\n",
    "    if query == 'present':\n",
    "        if name not in nameList:\n",
    "            now = datetime.now()\n",
    "            t1 = now.strftime('%H:%M:%S')\n",
    "            f.writelines(f'\\n{name},{t1}')   \n",
    "    elif query == 'exit':\n",
    "        for index,Name in enumerate(nameList):\n",
    "            if Name.lower() == name.lower():\n",
    "                now = datetime.now()\n",
    "                t2 = now.strftime('%H:%M:%S')\n",
    "                f.writelines(f',{t2}')"
   ]
  },
  {
   "cell_type": "code",
   "execution_count": 12,
   "metadata": {},
   "outputs": [
    {
     "name": "stdout",
     "output_type": "stream",
     "text": [
      "Encoding Complete\n",
      "TALHA\n",
      "Say that again please...\n",
      "TALHA\n",
      "Say that again please...\n",
      "SHOAIB\n",
      "Say that again please...\n",
      "TALHA\n",
      "Say that again please...\n",
      "TALHA\n",
      "TALHA\n",
      "Say that again please...\n"
     ]
    },
    {
     "ename": "KeyboardInterrupt",
     "evalue": "",
     "output_type": "error",
     "traceback": [
      "\u001b[1;31m---------------------------------------------------------------------------\u001b[0m",
      "\u001b[1;31mKeyboardInterrupt\u001b[0m                         Traceback (most recent call last)",
      "\u001b[1;32m<ipython-input-12-334acc5f6f6d>\u001b[0m in \u001b[0;36m<module>\u001b[1;34m\u001b[0m\n\u001b[0;32m     10\u001b[0m         \u001b[0mimgS\u001b[0m \u001b[1;33m=\u001b[0m \u001b[0mcv2\u001b[0m\u001b[1;33m.\u001b[0m\u001b[0mcvtColor\u001b[0m\u001b[1;33m(\u001b[0m\u001b[0mimgS\u001b[0m\u001b[1;33m,\u001b[0m \u001b[0mcv2\u001b[0m\u001b[1;33m.\u001b[0m\u001b[0mCOLOR_BGR2RGB\u001b[0m\u001b[1;33m)\u001b[0m\u001b[1;33m\u001b[0m\u001b[1;33m\u001b[0m\u001b[0m\n\u001b[0;32m     11\u001b[0m \u001b[1;33m\u001b[0m\u001b[0m\n\u001b[1;32m---> 12\u001b[1;33m         \u001b[0mfacesCurFrame\u001b[0m \u001b[1;33m=\u001b[0m \u001b[0mface_recognition\u001b[0m\u001b[1;33m.\u001b[0m\u001b[0mface_locations\u001b[0m\u001b[1;33m(\u001b[0m\u001b[0mimgS\u001b[0m\u001b[1;33m)\u001b[0m\u001b[1;33m\u001b[0m\u001b[1;33m\u001b[0m\u001b[0m\n\u001b[0m\u001b[0;32m     13\u001b[0m         \u001b[0mencodesCurFrame\u001b[0m \u001b[1;33m=\u001b[0m \u001b[0mface_recognition\u001b[0m\u001b[1;33m.\u001b[0m\u001b[0mface_encodings\u001b[0m\u001b[1;33m(\u001b[0m\u001b[0mimgS\u001b[0m\u001b[1;33m,\u001b[0m\u001b[0mfacesCurFrame\u001b[0m\u001b[1;33m)\u001b[0m\u001b[1;33m\u001b[0m\u001b[1;33m\u001b[0m\u001b[0m\n\u001b[0;32m     14\u001b[0m \u001b[1;33m\u001b[0m\u001b[0m\n",
      "\u001b[1;32m~\\anaconda3\\lib\\site-packages\\face_recognition\\api.py\u001b[0m in \u001b[0;36mface_locations\u001b[1;34m(img, number_of_times_to_upsample, model)\u001b[0m\n\u001b[0;32m    119\u001b[0m         \u001b[1;32mreturn\u001b[0m \u001b[1;33m[\u001b[0m\u001b[0m_trim_css_to_bounds\u001b[0m\u001b[1;33m(\u001b[0m\u001b[0m_rect_to_css\u001b[0m\u001b[1;33m(\u001b[0m\u001b[0mface\u001b[0m\u001b[1;33m.\u001b[0m\u001b[0mrect\u001b[0m\u001b[1;33m)\u001b[0m\u001b[1;33m,\u001b[0m \u001b[0mimg\u001b[0m\u001b[1;33m.\u001b[0m\u001b[0mshape\u001b[0m\u001b[1;33m)\u001b[0m \u001b[1;32mfor\u001b[0m \u001b[0mface\u001b[0m \u001b[1;32min\u001b[0m \u001b[0m_raw_face_locations\u001b[0m\u001b[1;33m(\u001b[0m\u001b[0mimg\u001b[0m\u001b[1;33m,\u001b[0m \u001b[0mnumber_of_times_to_upsample\u001b[0m\u001b[1;33m,\u001b[0m \u001b[1;34m\"cnn\"\u001b[0m\u001b[1;33m)\u001b[0m\u001b[1;33m]\u001b[0m\u001b[1;33m\u001b[0m\u001b[1;33m\u001b[0m\u001b[0m\n\u001b[0;32m    120\u001b[0m     \u001b[1;32melse\u001b[0m\u001b[1;33m:\u001b[0m\u001b[1;33m\u001b[0m\u001b[1;33m\u001b[0m\u001b[0m\n\u001b[1;32m--> 121\u001b[1;33m         \u001b[1;32mreturn\u001b[0m \u001b[1;33m[\u001b[0m\u001b[0m_trim_css_to_bounds\u001b[0m\u001b[1;33m(\u001b[0m\u001b[0m_rect_to_css\u001b[0m\u001b[1;33m(\u001b[0m\u001b[0mface\u001b[0m\u001b[1;33m)\u001b[0m\u001b[1;33m,\u001b[0m \u001b[0mimg\u001b[0m\u001b[1;33m.\u001b[0m\u001b[0mshape\u001b[0m\u001b[1;33m)\u001b[0m \u001b[1;32mfor\u001b[0m \u001b[0mface\u001b[0m \u001b[1;32min\u001b[0m \u001b[0m_raw_face_locations\u001b[0m\u001b[1;33m(\u001b[0m\u001b[0mimg\u001b[0m\u001b[1;33m,\u001b[0m \u001b[0mnumber_of_times_to_upsample\u001b[0m\u001b[1;33m,\u001b[0m \u001b[0mmodel\u001b[0m\u001b[1;33m)\u001b[0m\u001b[1;33m]\u001b[0m\u001b[1;33m\u001b[0m\u001b[1;33m\u001b[0m\u001b[0m\n\u001b[0m\u001b[0;32m    122\u001b[0m \u001b[1;33m\u001b[0m\u001b[0m\n\u001b[0;32m    123\u001b[0m \u001b[1;33m\u001b[0m\u001b[0m\n",
      "\u001b[1;31mKeyboardInterrupt\u001b[0m: "
     ]
    }
   ],
   "source": [
    "encodeListKnown = findEncodings(images)\n",
    "print('Encoding Complete')\n",
    " \n",
    "cap = cv2.VideoCapture(0)\n",
    "with open('data.csv','r+') as f:\n",
    "    while True:q\n",
    "        success, img = cap.read()\n",
    "        #img = captureScreen()\n",
    "        imgS = cv2.resize(img,(0,0),None,0.25,0.25)\n",
    "        imgS = cv2.cvtColor(imgS, cv2.COLOR_BGR2RGB)\n",
    "\n",
    "        facesCurFrame = face_recognition.face_locations(imgS)\n",
    "        encodesCurFrame = face_recognition.face_encodings(imgS,facesCurFrame)\n",
    "\n",
    "        for encodeFace,faceLoc in zip(encodesCurFrame,facesCurFrame):\n",
    "            matches = face_recognition.compare_faces(encodeListKnown,encodeFace)\n",
    "            faceDis = face_recognition.face_distance(encodeListKnown,encodeFace)\n",
    "            #print(faceDis)\n",
    "            matchIndex = np.argmin(faceDis)\n",
    "\n",
    "            if matches[matchIndex]:q\n",
    "                name = classNames[matchIndex].upper()\n",
    "                print(name)\n",
    "                y1,x2,y2,x1 = faceLoc\n",
    "                y1, x2, y2, x1 = y1*4,x2*4,y2*4,x1*4\n",
    "                cv2.rectangle(img,(x1,y1),(x2,y2),(0,255,0),2)\n",
    "                cv2.rectangle(img,(x1,y2-35),(x2,y2),(0,255,0),cv2.FILLED)\n",
    "                cv2.putText(img,name,(x1+6,y2-6),cv2.FONT_HERSHEY_COMPLEX,1,(255,255,255),2)\n",
    "                markAttendance(name,f)\n",
    "\n",
    "            cv2.imshow('Webcam',img)\n",
    "            if cv2.waitKey(1) & 0xFF == ord('q'):\n",
    "                break\n",
    "cap.release()\n",
    "cv2.destroyAllWindows()"
   ]
  },
  {
   "cell_type": "code",
   "execution_count": null,
   "metadata": {},
   "outputs": [],
   "source": []
  }
 ],
 "metadata": {
  "kernelspec": {
   "display_name": "Python 3",
   "language": "python",
   "name": "python3"
  },
  "language_info": {
   "codemirror_mode": {
    "name": "ipython",
    "version": 3
   },
   "file_extension": ".py",
   "mimetype": "text/x-python",
   "name": "python",
   "nbconvert_exporter": "python",
   "pygments_lexer": "ipython3",
   "version": "3.8.5"
  }
 },
 "nbformat": 4,
 "nbformat_minor": 5
}
